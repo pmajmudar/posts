{
 "cells": [
  {
   "cell_type": "code",
   "execution_count": 5,
   "metadata": {},
   "outputs": [],
   "source": [
    "import pandas as pd\n",
    "from scipy.stats import geom\n",
    "import matplotlib.pyplot as plt\n",
    "import numpy as np"
   ]
  },
  {
   "cell_type": "code",
   "execution_count": 10,
   "metadata": {},
   "outputs": [],
   "source": [
    "#plt.rcParams['figure.autolayout'] = False\n",
    "#plt.rcParams['figure.figsize'] = 10, 6\n",
    "plt.rcParams['axes.labelsize'] = 18\n",
    "plt.rcParams['axes.titlesize'] = 20\n",
    "plt.rcParams['font.size'] = 16\n",
    "plt.rcParams['lines.linewidth'] = 2.0\n",
    "plt.rcParams['lines.markersize'] = 8\n",
    "plt.rcParams['legend.fontsize'] = 14\n",
    "\n",
    "plt.rcParams['text.usetex'] = True\n",
    "#plt.rcParams['font.family'] = \"serif\"\n",
    "plt.rcParams['font.serif'] = \"cm\"\n",
    "plt.rcParams['text.latex.preamble'] = \"\\usepackage{subdepth}, \\usepackage{type1cm}\""
   ]
  },
  {
   "cell_type": "code",
   "execution_count": 7,
   "metadata": {},
   "outputs": [],
   "source": [
    "p=0.2"
   ]
  },
  {
   "cell_type": "code",
   "execution_count": 13,
   "metadata": {},
   "outputs": [],
   "source": [
    "def plot_geom(p):\n",
    "    rv = geom(p)\n",
    "    x = np.arange(rv.ppf(0.01), rv.ppf(0.99))\n",
    "    y = rv.pmf(x)\n",
    "    mean = 1.0/p\n",
    "    fig, ax = plt.subplots(1, 1, figsize=(8,8))\n",
    "    ax.plot(x, y, 'ob')\n",
    "    ax.vlines(x, 0, y, 'b')\n",
    "    ax.set_xticks(x[::2])\n",
    "    ax.set_xlabel(\"Years\")\n",
    "    ax.vlines(mean, 0, rv.pmf(mean), 'r', lw=4)\n",
    "    ax.annotate('Average lifetime = {0} years'.format(mean), (mean, rv.pmf(mean)), (5, 5), textcoords='offset pixels', fontsize='x-large')"
   ]
  },
  {
   "cell_type": "code",
   "execution_count": 27,
   "metadata": {},
   "outputs": [],
   "source": [
    "def plot_exp(p):\n",
    "    rv = geom(p)\n",
    "    x = np.arange(1, 50)\n",
    "    y = rv.pmf(x)\n",
    "    exp = np.cumsum(x*y)\n",
    "    mean = 1.0/p\n",
    "    fig, ax = plt.subplots(1, 1, figsize=(8,8))\n",
    "    ax.plot(x, exp, 'ob')\n",
    "    ax.set_xlabel(\"Years\")\n",
    "   "
   ]
  },
  {
   "cell_type": "code",
   "execution_count": 28,
   "metadata": {},
   "outputs": [
    {
     "data": {
      "image/png": "[encoded data removed]",
      "text/plain": [
       "<Figure size 576x576 with 1 Axes>"
      ]
     },
     "metadata": {
      "needs_background": "light"
     },
     "output_type": "display_data"
    }
   ],
   "source": [
    "plot_exp(0.2)"
   ]
  },
  {
   "cell_type": "markdown",
   "metadata": {},
   "source": [
    "Recently I was listening to Tom, our CEO, explain how we use average customer lifetime in our Return on Investment (ROI) business cases - it is one of many elements that we must estimate when building a ROI case for our customers. Tom explained how we use $\\frac{1}{\\text{Churn}}$, in order to estimate average customer lifetime - this is a common approach to estimating average lifetime. For example if we know that the churn is 20%, we would estimate the average lifetime as $\\frac{1}{0.2}$ = 5 years."
   ]
  },
  {
   "cell_type": "markdown",
   "metadata": {},
   "source": [
    "Listening to him, I realised, I didn't know why this was valid. It is a simple estimate and seems to work, but I wanted to dig into why its used a bit more."
   ]
  },
  {
   "cell_type": "markdown",
   "metadata": {},
   "source": [
    "To understand this, its probably important to explain what we mean by churn in this context. We can define churn as the probability that at the end of a year a customer will leave. For example, if our churn was 50% (!) then at the end of a year, we flip a coin: heads the customer churns, tails the customer is retained. Obviously if we can pick any timescale, it doesn't have to be a one year (it could be daily, weekly or monthly churn)."
   ]
  },
  {
   "cell_type": "markdown",
   "metadata": {},
   "source": [
    "Clearly 50% churn is insane, so lets continue by assuming a 20% churn rate. We can write the *probability* of a customer churning after 1 year like this:"
   ]
  },
  {
   "cell_type": "markdown",
   "metadata": {},
   "source": [
    "\\begin{align}\n",
    "P(Y = 1) & = 0.2\n",
    "\\end{align}"
   ]
  },
  {
   "cell_type": "markdown",
   "metadata": {},
   "source": [
    "We can also ask the question - what is the probability that a customer will churn after two years? Well in this case  we succesfully retained them in year 1 (we had a 80% chance of retaining), but they churned at the end of year 2. So the probability of churning after 2 years is:"
   ]
  },
  {
   "cell_type": "markdown",
   "metadata": {},
   "source": [
    "\\begin{align}\n",
    "P(Y = 2) & = 0.8 \\times 0.2 = 0.16 \\\\\n",
    "\\end{align}"
   ]
  },
  {
   "cell_type": "markdown",
   "metadata": {},
   "source": [
    "We have a 0.16 or 16% chance of a customer churning after two years. Similarly we can ask what is the chance of a customer churning after 3 years, or even 10 years (we retain them for 9 years and then they churn at the end of year 10)?"
   ]
  },
  {
   "cell_type": "markdown",
   "metadata": {},
   "source": [
    "\\begin{align}\n",
    "P(Y = 3) & = 0.8 \\times 0.8 \\times 0.2 = 0.128 \\\\\n",
    "P(Y = 10) & = 0.8 \\times 0.8 \\times 0.8 \\times 0.8 \\times 0.8 \\times 0.8 \\times 0.8 \\times 0.8 \\times 0.8 \\times 0.2 = 0.027 \\\\\n",
    "\\end{align}"
   ]
  },
  {
   "cell_type": "markdown",
   "metadata": {},
   "source": [
    "So we have a 12.8% chance of a customer churning after 3 years (i.e. they had a lifetime of 3 years) and a 2.7% of a customer having a 10 year lifetime. Clearly that last one was a little tedious to write, so in general we write it as:"
   ]
  },
  {
   "cell_type": "markdown",
   "metadata": {},
   "source": [
    "\\begin{align}\n",
    "P(Y=y) &= p\\ (1-p)^{ y-1} && \\text{for}\\ y = 1, 2, 3 \\dots\n",
    "\\end{align}"
   ]
  },
  {
   "cell_type": "markdown",
   "metadata": {},
   "source": [
    "This is called the probability mass function for the **geometric distribution**, sometimes called the **shifted geometric distribution**. It is a probability distribution used to model the number of trials (in our case years) up to an event (in our case a churn event)."
   ]
  },
  {
   "cell_type": "markdown",
   "metadata": {},
   "source": [
    "To show how it related to our earlier examples, for a 20% churn probability, $p=0.2$:"
   ]
  },
  {
   "cell_type": "markdown",
   "metadata": {},
   "source": [
    "\\begin{align*}\n",
    "P(Y=y) &= p\\ (1-p)^{ y-1} \\\\\n",
    "P(Y=y) &= 0.2\\cdot (1-0.2)^{ y-1} \\\\\n",
    "P(Y=y) &= 0.2\\cdot 0.8^{ y-1} \n",
    "\\end{align*}"
   ]
  },
  {
   "cell_type": "markdown",
   "metadata": {},
   "source": [
    "We can plot this out to visualise the chance of a customer churning after 1,2,3,4... years:"
   ]
  },
  {
   "cell_type": "code",
   "execution_count": 14,
   "metadata": {},
   "outputs": [
    {
     "data": {
      "image/png": "[encoded data removed]",
      "text/plain": [
       "<Figure size 576x576 with 1 Axes>"
      ]
     },
     "metadata": {
      "needs_background": "light"
     },
     "output_type": "display_data"
    }
   ],
   "source": [
    "plot_geom(0.2)"
   ]
  },
  {
   "cell_type": "markdown",
   "metadata": {},
   "source": [
    "We can also plot this distribution for a different churn probability, e.g. 10%:"
   ]
  },
  {
   "cell_type": "code",
   "execution_count": 15,
   "metadata": {},
   "outputs": [
    {
     "data": {
      "image/png": "[encoded data removed]",
      "text/plain": [
       "<Figure size 576x576 with 1 Axes>"
      ]
     },
     "metadata": {
      "needs_background": "light"
     },
     "output_type": "display_data"
    }
   ],
   "source": [
    "plot_geom(0.1)"
   ]
  },
  {
   "cell_type": "markdown",
   "metadata": {},
   "source": [
    "In the first plot, as expected we can see the churn probabilities of 20% after one year, 16% after two years etc. Interestingly the probability of retaining a customer for five years is only 8.2% and yet this is the average customer lifetime! How can this be? "
   ]
  },
  {
   "cell_type": "markdown",
   "metadata": {},
   "source": [
    "The answer lies in the long-tail of this distribution. Even though the most common lifetime (the mode) is 1 year, the average or mean is 5 years. That is, most customers will churn after 1 year, but some will stay for 2 years and some will only churn after 10 or even 20 (or even longer) years. In this model, these longer-term, loyal customers average out the shorter lifetime customers."
   ]
  },
  {
   "cell_type": "markdown",
   "metadata": {},
   "source": [
    "We can calculate the average lifetime by calculating a weighted sum of *the lifetime of a customer multiplied by how likely a customer is to have that lifetime*. So 20% of customers are likely to have a 1 year lifetime, "
   ]
  },
  {
   "cell_type": "markdown",
   "metadata": {},
   "source": [
    "\\begin{align}\n",
    "&= 0.2 \\times 1 + 0.16 \\times 2 + 0.128 \\times 3 \\dots \\\\\n",
    "&= 0.2 + 0.32 + 0.384 + 0.4096\n",
    "\\end{align}"
   ]
  },
  {
   "cell_type": "markdown",
   "metadata": {},
   "source": [
    "We can write this using the probability equation from earlier:"
   ]
  },
  {
   "cell_type": "markdown",
   "metadata": {},
   "source": [
    "\\begin{align}\n",
    "\\text{Average Lifetime} =  p\\ (1-p)^{0} \\times 1 + p\\ (1-p)^{1} \\times 2 + p\\ (1-p)^{2} \\times 3 \\dots && \\text{where p=0.2}\n",
    "\\end{align}"
   ]
  },
  {
   "cell_type": "markdown",
   "metadata": {},
   "source": [
    "Although this is a long sum (that goes on forever!), it turns out that we can simplify this with some maths and prove that the Average Lifetime = $\\frac{1}{p}$"
   ]
  },
  {
   "cell_type": "markdown",
   "metadata": {},
   "source": [
    "Before we get to that, its worth explaining the limitations of this model. Firstly this model assumes that the probability a customer will churn is always 20% *regardless* of previous years outcomes. This is known as independence. This intuitively feels a bit weird - maybe you'd expect your first year churn to be 20%, but if a customer is retained perhaps the probability drops off sharply - this breaks independence. \n",
    "\n",
    "The second assumption is that the churn probability is always 20% - again maybe this depends on the type of customer e.g. perhaps smaller customers churn more easily. We may many pieces of information about a customer e.g. how engaged they were, when they last responded to an email, how rapidly they've grown. These 'signals' can't be incorporated into the simple model above.\n",
    "\n",
    "Finally it might not be as simple as churn / retained - perhaps some customers become dormant or go out of business - maybe we want to model these differently.\n",
    "\n",
    "For more sophisticated challenges, a more sophisticated approach, e.g. using Machine Learning, can help overcome these limitations."
   ]
  },
  {
   "cell_type": "markdown",
   "metadata": {},
   "source": []
  },
  {
   "cell_type": "markdown",
   "metadata": {},
   "source": [
    "## Proving that the average lifetime is $\\frac{1}{p}$"
   ]
  },
  {
   "cell_type": "markdown",
   "metadata": {},
   "source": [
    "In order to exactly calculate the Average Customer Lifetime, we need to calculate this sum to infinity. This is called the mean or **expectation** of the probability distribution. The expectation, *E*, is given by:"
   ]
  },
  {
   "cell_type": "markdown",
   "metadata": {},
   "source": [
    "\\begin{align}\n",
    "E[Y] &= \\sum_{y=1}^{\\infty} P(Y=y)\\cdot y \n",
    "\\end{align}"
   ]
  },
  {
   "cell_type": "markdown",
   "metadata": {},
   "source": [
    "To remind ourselves, we are trying to prove that this expectation is actually just $\\frac{1}{p}$ or 1 / churn. Lets work through this, substituting in for $P(Y=y)$ from earlier. "
   ]
  },
  {
   "cell_type": "markdown",
   "metadata": {},
   "source": [
    "\\begin{align}\n",
    "E[Y] &= \\sum_{y=1}^{\\infty} p\\ (1-p)^{ y-1}y \\\\\n",
    "E[Y] &= p \\sum_{y=1}^{\\infty} (1-p)^{ y-1}y \n",
    "\\end{align}"
   ]
  },
  {
   "cell_type": "markdown",
   "metadata": {},
   "source": [
    "Lets substitute $q = 1-p$ for convenience:"
   ]
  },
  {
   "cell_type": "markdown",
   "metadata": {},
   "source": [
    "\\begin{align}\n",
    "E[Y] &= p \\sum_{y=1}^{\\infty} q^{ y-1}y \n",
    "\\end{align}"
   ]
  },
  {
   "cell_type": "markdown",
   "metadata": {},
   "source": [
    "The trick here is to recognise that the summation can be replaced by a derivative of another summation, using THIS fact."
   ]
  },
  {
   "cell_type": "markdown",
   "metadata": {},
   "source": [
    "\\begin{equation*}\n",
    "E[Y] = p \\frac{d}{dq} \\Big( \\sum_{y=0}^{\\infty} q^{ y} \\Big) \n",
    "\\end{equation*}"
   ]
  },
  {
   "cell_type": "markdown",
   "metadata": {},
   "source": [
    "Now, we can recognise we have a geometric series. As we know that $q < 1$, the geometric series $\\sum_{y=0}^{\\infty} q^{y}$ will converge to $\\frac{1}{1-q}$ or $(1-q)^{-1}$\n",
    "We can subsitute this for the summation:"
   ]
  },
  {
   "cell_type": "markdown",
   "metadata": {},
   "source": [
    "\\begin{equation*}\n",
    "E[Y] = p \\frac{d}{dq} \\big( (1-q)^{-1} \\big) \\\\\n",
    "\\end{equation*}"
   ]
  },
  {
   "cell_type": "markdown",
   "metadata": {},
   "source": [
    "If we evaluate the derivative and simplify:"
   ]
  },
  {
   "cell_type": "markdown",
   "metadata": {},
   "source": [
    "\\begin{align}\n",
    "E[Y] &= p \\big( \\text{-1} \\cdot \\text{-1}\\cdot(1-q)^{-2} \\big) \\\\\n",
    "E[Y] &= \\frac{p}{(1-q)^{2}} \\\\\n",
    "E[Y] &= \\frac{p}{(1-(1-p))^{2}} \\\\\n",
    "E[Y] &= \\frac{p}{p^{2}} \\\\\n",
    "E[Y] &= \\frac{1}{p}\n",
    "\\end{align}"
   ]
  },
  {
   "cell_type": "markdown",
   "metadata": {},
   "source": [
    "Hence, we know for the geometric distribution, the mean is $\\frac{1}{p}$, which is exactly what we set out to show."
   ]
  }
 ],
 "metadata": {
  "kernelspec": {
   "display_name": "Python 2",
   "language": "python",
   "name": "python2"
  }
 },
 "nbformat": 4,
 "nbformat_minor": 2
}
